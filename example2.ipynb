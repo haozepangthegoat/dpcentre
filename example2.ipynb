{
 "cells": [
  {
   "cell_type": "markdown",
   "source": [
    "# Jupyter Template"
   ],
   "metadata": {
    "collapsed": false
   },
   "id": "1b04bdd35c4f4ed5"
  },
  {
   "cell_type": "markdown",
   "source": [
    "## Initialise module"
   ],
   "metadata": {
    "collapsed": false
   },
   "id": "c27b102aca2e7cc4"
  },
  {
   "cell_type": "markdown",
   "source": [
    "import packages"
   ],
   "metadata": {
    "collapsed": false
   },
   "id": "84b88e2fc5f7cbfb"
  },
  {
   "cell_type": "code",
   "outputs": [],
   "source": [
    "import os\n",
    "import sys\n",
    "import shutil\n",
    "\n",
    "import numpy as np\n",
    "import pandas as pd\n",
    "import matplotlib.pyplot as plt\n",
    "import seaborn as sns"
   ],
   "metadata": {
    "collapsed": false,
    "ExecuteTime": {
     "end_time": "2024-02-28T16:06:44.051869Z",
     "start_time": "2024-02-28T16:06:44.048717Z"
    }
   },
   "id": "d5f0722db5ca688c",
   "execution_count": 1
  },
  {
   "cell_type": "markdown",
   "source": [
    "initialise IO"
   ],
   "metadata": {
    "collapsed": false
   },
   "id": "12265f04873f2791"
  },
  {
   "cell_type": "code",
   "outputs": [],
   "source": [
    "def indicate(indicator_text):\n",
    "    \"\"\"Print indicator text\"\"\"\n",
    "\n",
    "    # ANSI escape codes for colors and formatting\n",
    "    blue = '\\033[94m'\n",
    "    bold = '\\033[1m'\n",
    "    end = '\\033[0m'\n",
    "\n",
    "    # Constructing the string with the desired formatting\n",
    "    formatted_text = blue + '==>' + end + ' ' + bold + indicator_text + end\n",
    "    print(formatted_text)\n",
    "\n",
    "\n",
    "def move_file(file_name: str, folder_name: str):\n",
    "    os.makedirs(folder_name, exist_ok=True)\n",
    "\n",
    "    try:\n",
    "        shutil.move(file_name, folder_name)\n",
    "    except shutil.Error:\n",
    "        # This error typically occurs when there is already a file with the same name in the\n",
    "        # destination directory. If this is the case, we fill delete the original file\n",
    "        print(f'{file_name} already exists in {folder_name}, now overriding it!')\n",
    "        destination_file = os.path.join(folder_name, os.path.basename(file_name))\n",
    "        os.remove(destination_file)\n",
    "        shutil.move(file_name, folder_name)\n",
    "    except FileNotFoundError:\n",
    "        print('Please put the file in the same directory as this python script.')"
   ],
   "metadata": {
    "collapsed": false
   },
   "id": "2a11a111c041c3f4"
  }
 ],
 "metadata": {
  "kernelspec": {
   "display_name": "Python 3",
   "language": "python",
   "name": "python3"
  },
  "language_info": {
   "codemirror_mode": {
    "name": "ipython",
    "version": 2
   },
   "file_extension": ".py",
   "mimetype": "text/x-python",
   "name": "python",
   "nbconvert_exporter": "python",
   "pygments_lexer": "ipython2",
   "version": "2.7.6"
  }
 },
 "nbformat": 4,
 "nbformat_minor": 5
}
